{
  "nbformat": 4,
  "nbformat_minor": 0,
  "metadata": {
    "colab": {
      "provenance": []
    },
    "kernelspec": {
      "name": "python3",
      "display_name": "Python 3"
    },
    "language_info": {
      "name": "python"
    }
  },
  "cells": [
    {
      "cell_type": "markdown",
      "source": [
        "## Preprocessing Data\n",
        "[Dataset](https://www.kaggle.com/datasets/fedesoriano/stroke-prediction-dataset)"
      ],
      "metadata": {
        "id": "6hQ1Co96hz9M"
      }
    },
    {
      "cell_type": "code",
      "execution_count": 58,
      "metadata": {
        "colab": {
          "base_uri": "https://localhost:8080/",
          "height": 206
        },
        "id": "xW7-XWrMhtex",
        "outputId": "33f8bace-4c28-4002-a064-3d39fa5c72ec"
      },
      "outputs": [
        {
          "output_type": "execute_result",
          "data": {
            "text/plain": [
              "   gender   age  hypertension  heart_disease ever_married      work_type  \\\n",
              "0    Male  78.0             0              0          Yes  Self-employed   \n",
              "1    Male  55.0             0              0          Yes       Govt_job   \n",
              "2  Female  52.0             1              0          Yes  Self-employed   \n",
              "3  Female  15.0             0              0           No       children   \n",
              "4  Female  82.0             1              1          Yes       Govt_job   \n",
              "\n",
              "   avg_glucose_level   bmi   smoking_status  stroke  \n",
              "0             133.19  23.6  formerly smoked       1  \n",
              "1              97.40  44.6  formerly smoked       0  \n",
              "2             233.29  48.9     never smoked       1  \n",
              "3             114.53  29.1          Unknown       0  \n",
              "4             215.94  27.9  formerly smoked       1  "
            ],
            "text/html": [
              "\n",
              "  <div id=\"df-658d94c3-3445-46fb-9302-3eaf13c40e1c\">\n",
              "    <div class=\"colab-df-container\">\n",
              "      <div>\n",
              "<style scoped>\n",
              "    .dataframe tbody tr th:only-of-type {\n",
              "        vertical-align: middle;\n",
              "    }\n",
              "\n",
              "    .dataframe tbody tr th {\n",
              "        vertical-align: top;\n",
              "    }\n",
              "\n",
              "    .dataframe thead th {\n",
              "        text-align: right;\n",
              "    }\n",
              "</style>\n",
              "<table border=\"1\" class=\"dataframe\">\n",
              "  <thead>\n",
              "    <tr style=\"text-align: right;\">\n",
              "      <th></th>\n",
              "      <th>gender</th>\n",
              "      <th>age</th>\n",
              "      <th>hypertension</th>\n",
              "      <th>heart_disease</th>\n",
              "      <th>ever_married</th>\n",
              "      <th>work_type</th>\n",
              "      <th>avg_glucose_level</th>\n",
              "      <th>bmi</th>\n",
              "      <th>smoking_status</th>\n",
              "      <th>stroke</th>\n",
              "    </tr>\n",
              "  </thead>\n",
              "  <tbody>\n",
              "    <tr>\n",
              "      <th>0</th>\n",
              "      <td>Male</td>\n",
              "      <td>78.0</td>\n",
              "      <td>0</td>\n",
              "      <td>0</td>\n",
              "      <td>Yes</td>\n",
              "      <td>Self-employed</td>\n",
              "      <td>133.19</td>\n",
              "      <td>23.6</td>\n",
              "      <td>formerly smoked</td>\n",
              "      <td>1</td>\n",
              "    </tr>\n",
              "    <tr>\n",
              "      <th>1</th>\n",
              "      <td>Male</td>\n",
              "      <td>55.0</td>\n",
              "      <td>0</td>\n",
              "      <td>0</td>\n",
              "      <td>Yes</td>\n",
              "      <td>Govt_job</td>\n",
              "      <td>97.40</td>\n",
              "      <td>44.6</td>\n",
              "      <td>formerly smoked</td>\n",
              "      <td>0</td>\n",
              "    </tr>\n",
              "    <tr>\n",
              "      <th>2</th>\n",
              "      <td>Female</td>\n",
              "      <td>52.0</td>\n",
              "      <td>1</td>\n",
              "      <td>0</td>\n",
              "      <td>Yes</td>\n",
              "      <td>Self-employed</td>\n",
              "      <td>233.29</td>\n",
              "      <td>48.9</td>\n",
              "      <td>never smoked</td>\n",
              "      <td>1</td>\n",
              "    </tr>\n",
              "    <tr>\n",
              "      <th>3</th>\n",
              "      <td>Female</td>\n",
              "      <td>15.0</td>\n",
              "      <td>0</td>\n",
              "      <td>0</td>\n",
              "      <td>No</td>\n",
              "      <td>children</td>\n",
              "      <td>114.53</td>\n",
              "      <td>29.1</td>\n",
              "      <td>Unknown</td>\n",
              "      <td>0</td>\n",
              "    </tr>\n",
              "    <tr>\n",
              "      <th>4</th>\n",
              "      <td>Female</td>\n",
              "      <td>82.0</td>\n",
              "      <td>1</td>\n",
              "      <td>1</td>\n",
              "      <td>Yes</td>\n",
              "      <td>Govt_job</td>\n",
              "      <td>215.94</td>\n",
              "      <td>27.9</td>\n",
              "      <td>formerly smoked</td>\n",
              "      <td>1</td>\n",
              "    </tr>\n",
              "  </tbody>\n",
              "</table>\n",
              "</div>\n",
              "      <button class=\"colab-df-convert\" onclick=\"convertToInteractive('df-658d94c3-3445-46fb-9302-3eaf13c40e1c')\"\n",
              "              title=\"Convert this dataframe to an interactive table.\"\n",
              "              style=\"display:none;\">\n",
              "        \n",
              "  <svg xmlns=\"http://www.w3.org/2000/svg\" height=\"24px\"viewBox=\"0 0 24 24\"\n",
              "       width=\"24px\">\n",
              "    <path d=\"M0 0h24v24H0V0z\" fill=\"none\"/>\n",
              "    <path d=\"M18.56 5.44l.94 2.06.94-2.06 2.06-.94-2.06-.94-.94-2.06-.94 2.06-2.06.94zm-11 1L8.5 8.5l.94-2.06 2.06-.94-2.06-.94L8.5 2.5l-.94 2.06-2.06.94zm10 10l.94 2.06.94-2.06 2.06-.94-2.06-.94-.94-2.06-.94 2.06-2.06.94z\"/><path d=\"M17.41 7.96l-1.37-1.37c-.4-.4-.92-.59-1.43-.59-.52 0-1.04.2-1.43.59L10.3 9.45l-7.72 7.72c-.78.78-.78 2.05 0 2.83L4 21.41c.39.39.9.59 1.41.59.51 0 1.02-.2 1.41-.59l7.78-7.78 2.81-2.81c.8-.78.8-2.07 0-2.86zM5.41 20L4 18.59l7.72-7.72 1.47 1.35L5.41 20z\"/>\n",
              "  </svg>\n",
              "      </button>\n",
              "      \n",
              "  <style>\n",
              "    .colab-df-container {\n",
              "      display:flex;\n",
              "      flex-wrap:wrap;\n",
              "      gap: 12px;\n",
              "    }\n",
              "\n",
              "    .colab-df-convert {\n",
              "      background-color: #E8F0FE;\n",
              "      border: none;\n",
              "      border-radius: 50%;\n",
              "      cursor: pointer;\n",
              "      display: none;\n",
              "      fill: #1967D2;\n",
              "      height: 32px;\n",
              "      padding: 0 0 0 0;\n",
              "      width: 32px;\n",
              "    }\n",
              "\n",
              "    .colab-df-convert:hover {\n",
              "      background-color: #E2EBFA;\n",
              "      box-shadow: 0px 1px 2px rgba(60, 64, 67, 0.3), 0px 1px 3px 1px rgba(60, 64, 67, 0.15);\n",
              "      fill: #174EA6;\n",
              "    }\n",
              "\n",
              "    [theme=dark] .colab-df-convert {\n",
              "      background-color: #3B4455;\n",
              "      fill: #D2E3FC;\n",
              "    }\n",
              "\n",
              "    [theme=dark] .colab-df-convert:hover {\n",
              "      background-color: #434B5C;\n",
              "      box-shadow: 0px 1px 3px 1px rgba(0, 0, 0, 0.15);\n",
              "      filter: drop-shadow(0px 1px 2px rgba(0, 0, 0, 0.3));\n",
              "      fill: #FFFFFF;\n",
              "    }\n",
              "  </style>\n",
              "\n",
              "      <script>\n",
              "        const buttonEl =\n",
              "          document.querySelector('#df-658d94c3-3445-46fb-9302-3eaf13c40e1c button.colab-df-convert');\n",
              "        buttonEl.style.display =\n",
              "          google.colab.kernel.accessAllowed ? 'block' : 'none';\n",
              "\n",
              "        async function convertToInteractive(key) {\n",
              "          const element = document.querySelector('#df-658d94c3-3445-46fb-9302-3eaf13c40e1c');\n",
              "          const dataTable =\n",
              "            await google.colab.kernel.invokeFunction('convertToInteractive',\n",
              "                                                     [key], {});\n",
              "          if (!dataTable) return;\n",
              "\n",
              "          const docLinkHtml = 'Like what you see? Visit the ' +\n",
              "            '<a target=\"_blank\" href=https://colab.research.google.com/notebooks/data_table.ipynb>data table notebook</a>'\n",
              "            + ' to learn more about interactive tables.';\n",
              "          element.innerHTML = '';\n",
              "          dataTable['output_type'] = 'display_data';\n",
              "          await google.colab.output.renderOutput(dataTable, element);\n",
              "          const docLink = document.createElement('div');\n",
              "          docLink.innerHTML = docLinkHtml;\n",
              "          element.appendChild(docLink);\n",
              "        }\n",
              "      </script>\n",
              "    </div>\n",
              "  </div>\n",
              "  "
            ]
          },
          "metadata": {},
          "execution_count": 58
        }
      ],
      "source": [
        "import pandas as pd\n",
        "import matplotlib.pyplot as plt\n",
        "import tensorflow as tf\n",
        "\n",
        "# read data\n",
        "data = pd.read_csv(\"/content/healthcare-dataset-stroke-data.csv\")\n",
        "# remove id column\n",
        "data.drop(data.filter(regex = \"id\"), axis = 1, inplace = True)\n",
        "# suffle dataset\n",
        "data = data.sample(frac = 1).reset_index(drop = True)\n",
        "# remove NaN rows\n",
        "data = data.dropna()\n",
        "\n",
        "data.head()"
      ]
    },
    {
      "cell_type": "code",
      "source": [
        "import numpy as np\n",
        "from sklearn.compose import make_column_transformer\n",
        "from sklearn.preprocessing import MinMaxScaler, OneHotEncoder\n",
        "from sklearn.model_selection import train_test_split\n",
        "\n",
        "# create column transformer\n",
        "ct = make_column_transformer(\n",
        "    (MinMaxScaler(), [\"age\", \"avg_glucose_level\", \"bmi\"]),\n",
        "    (OneHotEncoder(handle_unknown = \"ignore\"), [\"gender\", \"hypertension\", \"heart_disease\", \"ever_married\", \"work_type\", \"smoking_status\"])\n",
        ")\n",
        "\n",
        "# create X and y value\n",
        "X = data.drop(\"stroke\", axis = 1)\n",
        "y = data[\"stroke\"]\n",
        "\n",
        "# train test split\n",
        "X_train, X_test, y_train, y_test = train_test_split(X, y, test_size = 0.15, random_state = 42)\n",
        "\n",
        "# fit the column transformer\n",
        "ct.fit(X_train)\n",
        "\n",
        "# transfor train and test data\n",
        "X_train_normal = ct.transform(X_train)\n",
        "X_test_normal = ct.transform(X_test)"
      ],
      "metadata": {
        "id": "b2tLWu5FkBbL"
      },
      "execution_count": 59,
      "outputs": []
    },
    {
      "cell_type": "code",
      "source": [
        "X_train_normal[0]"
      ],
      "metadata": {
        "colab": {
          "base_uri": "https://localhost:8080/"
        },
        "id": "vFs6uy2KluK3",
        "outputId": "9cbec051-b62d-45da-8f49-3e4b41b91709"
      },
      "execution_count": 60,
      "outputs": [
        {
          "output_type": "execute_result",
          "data": {
            "text/plain": [
              "array([0.84021632, 0.18026346, 0.17647059, 1.        , 0.        ,\n",
              "       1.        , 0.        , 1.        , 0.        , 1.        ,\n",
              "       0.        , 0.        , 0.        , 1.        , 0.        ,\n",
              "       0.        , 0.        , 0.        , 1.        , 0.        ])"
            ]
          },
          "metadata": {},
          "execution_count": 60
        }
      ]
    },
    {
      "cell_type": "code",
      "source": [
        "X_test_normal[0]"
      ],
      "metadata": {
        "colab": {
          "base_uri": "https://localhost:8080/"
        },
        "id": "u3pXaZfVlw7W",
        "outputId": "9d2619b1-61d1-4778-ee55-9077ddcce6c7"
      },
      "execution_count": 61,
      "outputs": [
        {
          "output_type": "execute_result",
          "data": {
            "text/plain": [
              "array([0.91396264, 0.86960943, 0.25882353, 1.        , 0.        ,\n",
              "       1.        , 0.        , 0.        , 1.        , 0.        ,\n",
              "       1.        , 0.        , 0.        , 0.        , 1.        ,\n",
              "       0.        , 0.        , 0.        , 1.        , 0.        ])"
            ]
          },
          "metadata": {},
          "execution_count": 61
        }
      ]
    },
    {
      "cell_type": "markdown",
      "source": [
        "## Build a neural network"
      ],
      "metadata": {
        "id": "Wb6q1sxfl0JW"
      }
    },
    {
      "cell_type": "code",
      "source": [
        "# create the model\n",
        "model_1 = tf.keras.Sequential([\n",
        "    tf.keras.layers.Dense(15, activation = \"relu\"),\n",
        "    tf.keras.layers.Dense(5, activation = \"relu\"),\n",
        "    tf.keras.layers.Dense(1, activation = \"sigmoid\")\n",
        "])\n",
        "\n",
        "# compile the model\n",
        "model_1.compile(loss = \"binary_crossentropy\",\n",
        "                optimizer = tf.keras.optimizers.Adam(),\n",
        "                metrics = [\"accuracy\"])\n",
        "\n",
        "# create learning rate callback\n",
        "lr_scheduler = tf.keras.callbacks.LearningRateScheduler(lambda epoch: 1e-4 * 10**(epoch/20))\n",
        "\n",
        "# fit the model\n",
        "history_1 = model_1.fit(X_train_normal, y_train, callbacks = [lr_scheduler], epochs = 100)"
      ],
      "metadata": {
        "colab": {
          "base_uri": "https://localhost:8080/"
        },
        "id": "rU-5nhi6l2Cr",
        "outputId": "1904509c-cd77-457f-d438-54498f1d9e58"
      },
      "execution_count": 75,
      "outputs": [
        {
          "output_type": "stream",
          "name": "stdout",
          "text": [
            "Epoch 1/100\n",
            "13/13 [==============================] - 1s 3ms/step - loss: 0.6718 - accuracy: 0.5505 - lr: 1.0000e-04\n",
            "Epoch 2/100\n",
            "13/13 [==============================] - 0s 2ms/step - loss: 0.6707 - accuracy: 0.5505 - lr: 1.1220e-04\n",
            "Epoch 3/100\n",
            "13/13 [==============================] - 0s 4ms/step - loss: 0.6695 - accuracy: 0.5530 - lr: 1.2589e-04\n",
            "Epoch 4/100\n",
            "13/13 [==============================] - 0s 2ms/step - loss: 0.6684 - accuracy: 0.5606 - lr: 1.4125e-04\n",
            "Epoch 5/100\n",
            "13/13 [==============================] - 0s 1ms/step - loss: 0.6669 - accuracy: 0.5606 - lr: 1.5849e-04\n",
            "Epoch 6/100\n",
            "13/13 [==============================] - 0s 2ms/step - loss: 0.6652 - accuracy: 0.5732 - lr: 1.7783e-04\n",
            "Epoch 7/100\n",
            "13/13 [==============================] - 0s 2ms/step - loss: 0.6632 - accuracy: 0.5732 - lr: 1.9953e-04\n",
            "Epoch 8/100\n",
            "13/13 [==============================] - 0s 1ms/step - loss: 0.6609 - accuracy: 0.5682 - lr: 2.2387e-04\n",
            "Epoch 9/100\n",
            "13/13 [==============================] - 0s 1ms/step - loss: 0.6581 - accuracy: 0.5707 - lr: 2.5119e-04\n",
            "Epoch 10/100\n",
            "13/13 [==============================] - 0s 2ms/step - loss: 0.6548 - accuracy: 0.5808 - lr: 2.8184e-04\n",
            "Epoch 11/100\n",
            "13/13 [==============================] - 0s 2ms/step - loss: 0.6513 - accuracy: 0.6061 - lr: 3.1623e-04\n",
            "Epoch 12/100\n",
            "13/13 [==============================] - 0s 2ms/step - loss: 0.6474 - accuracy: 0.6187 - lr: 3.5481e-04\n",
            "Epoch 13/100\n",
            "13/13 [==============================] - 0s 2ms/step - loss: 0.6436 - accuracy: 0.6187 - lr: 3.9811e-04\n",
            "Epoch 14/100\n",
            "13/13 [==============================] - 0s 2ms/step - loss: 0.6397 - accuracy: 0.6263 - lr: 4.4668e-04\n",
            "Epoch 15/100\n",
            "13/13 [==============================] - 0s 1ms/step - loss: 0.6358 - accuracy: 0.6364 - lr: 5.0119e-04\n",
            "Epoch 16/100\n",
            "13/13 [==============================] - 0s 2ms/step - loss: 0.6310 - accuracy: 0.6465 - lr: 5.6234e-04\n",
            "Epoch 17/100\n",
            "13/13 [==============================] - 0s 2ms/step - loss: 0.6259 - accuracy: 0.6364 - lr: 6.3096e-04\n",
            "Epoch 18/100\n",
            "13/13 [==============================] - 0s 1ms/step - loss: 0.6207 - accuracy: 0.6439 - lr: 7.0795e-04\n",
            "Epoch 19/100\n",
            "13/13 [==============================] - 0s 3ms/step - loss: 0.6157 - accuracy: 0.6490 - lr: 7.9433e-04\n",
            "Epoch 20/100\n",
            "13/13 [==============================] - 0s 2ms/step - loss: 0.6100 - accuracy: 0.6540 - lr: 8.9125e-04\n",
            "Epoch 21/100\n",
            "13/13 [==============================] - 0s 2ms/step - loss: 0.6037 - accuracy: 0.6566 - lr: 0.0010\n",
            "Epoch 22/100\n",
            "13/13 [==============================] - 0s 2ms/step - loss: 0.5980 - accuracy: 0.6717 - lr: 0.0011\n",
            "Epoch 23/100\n",
            "13/13 [==============================] - 0s 2ms/step - loss: 0.5907 - accuracy: 0.6944 - lr: 0.0013\n",
            "Epoch 24/100\n",
            "13/13 [==============================] - 0s 2ms/step - loss: 0.5859 - accuracy: 0.6843 - lr: 0.0014\n",
            "Epoch 25/100\n",
            "13/13 [==============================] - 0s 2ms/step - loss: 0.5758 - accuracy: 0.6970 - lr: 0.0016\n",
            "Epoch 26/100\n",
            "13/13 [==============================] - 0s 2ms/step - loss: 0.5713 - accuracy: 0.6919 - lr: 0.0018\n",
            "Epoch 27/100\n",
            "13/13 [==============================] - 0s 2ms/step - loss: 0.5620 - accuracy: 0.7247 - lr: 0.0020\n",
            "Epoch 28/100\n",
            "13/13 [==============================] - 0s 2ms/step - loss: 0.5503 - accuracy: 0.7172 - lr: 0.0022\n",
            "Epoch 29/100\n",
            "13/13 [==============================] - 0s 2ms/step - loss: 0.5428 - accuracy: 0.7020 - lr: 0.0025\n",
            "Epoch 30/100\n",
            "13/13 [==============================] - 0s 2ms/step - loss: 0.5346 - accuracy: 0.7399 - lr: 0.0028\n",
            "Epoch 31/100\n",
            "13/13 [==============================] - 0s 2ms/step - loss: 0.5244 - accuracy: 0.7424 - lr: 0.0032\n",
            "Epoch 32/100\n",
            "13/13 [==============================] - 0s 2ms/step - loss: 0.5165 - accuracy: 0.7449 - lr: 0.0035\n",
            "Epoch 33/100\n",
            "13/13 [==============================] - 0s 2ms/step - loss: 0.5099 - accuracy: 0.7525 - lr: 0.0040\n",
            "Epoch 34/100\n",
            "13/13 [==============================] - 0s 2ms/step - loss: 0.5098 - accuracy: 0.7298 - lr: 0.0045\n",
            "Epoch 35/100\n",
            "13/13 [==============================] - 0s 2ms/step - loss: 0.4986 - accuracy: 0.7551 - lr: 0.0050\n",
            "Epoch 36/100\n",
            "13/13 [==============================] - 0s 2ms/step - loss: 0.4936 - accuracy: 0.7449 - lr: 0.0056\n",
            "Epoch 37/100\n",
            "13/13 [==============================] - 0s 3ms/step - loss: 0.5070 - accuracy: 0.7374 - lr: 0.0063\n",
            "Epoch 38/100\n",
            "13/13 [==============================] - 0s 2ms/step - loss: 0.4831 - accuracy: 0.7652 - lr: 0.0071\n",
            "Epoch 39/100\n",
            "13/13 [==============================] - 0s 2ms/step - loss: 0.4791 - accuracy: 0.7727 - lr: 0.0079\n",
            "Epoch 40/100\n",
            "13/13 [==============================] - 0s 2ms/step - loss: 0.4781 - accuracy: 0.7778 - lr: 0.0089\n",
            "Epoch 41/100\n",
            "13/13 [==============================] - 0s 2ms/step - loss: 0.4870 - accuracy: 0.7551 - lr: 0.0100\n",
            "Epoch 42/100\n",
            "13/13 [==============================] - 0s 2ms/step - loss: 0.4764 - accuracy: 0.7576 - lr: 0.0112\n",
            "Epoch 43/100\n",
            "13/13 [==============================] - 0s 2ms/step - loss: 0.4800 - accuracy: 0.7652 - lr: 0.0126\n",
            "Epoch 44/100\n",
            "13/13 [==============================] - 0s 2ms/step - loss: 0.5020 - accuracy: 0.7525 - lr: 0.0141\n",
            "Epoch 45/100\n",
            "13/13 [==============================] - 0s 1ms/step - loss: 0.4828 - accuracy: 0.7601 - lr: 0.0158\n",
            "Epoch 46/100\n",
            "13/13 [==============================] - 0s 1ms/step - loss: 0.4659 - accuracy: 0.7854 - lr: 0.0178\n",
            "Epoch 47/100\n",
            "13/13 [==============================] - 0s 2ms/step - loss: 0.4771 - accuracy: 0.7449 - lr: 0.0200\n",
            "Epoch 48/100\n",
            "13/13 [==============================] - 0s 2ms/step - loss: 0.4720 - accuracy: 0.7677 - lr: 0.0224\n",
            "Epoch 49/100\n",
            "13/13 [==============================] - 0s 1ms/step - loss: 0.4697 - accuracy: 0.7727 - lr: 0.0251\n",
            "Epoch 50/100\n",
            "13/13 [==============================] - 0s 1ms/step - loss: 0.4691 - accuracy: 0.7753 - lr: 0.0282\n",
            "Epoch 51/100\n",
            "13/13 [==============================] - 0s 2ms/step - loss: 0.4748 - accuracy: 0.7601 - lr: 0.0316\n",
            "Epoch 52/100\n",
            "13/13 [==============================] - 0s 1ms/step - loss: 0.4729 - accuracy: 0.7626 - lr: 0.0355\n",
            "Epoch 53/100\n",
            "13/13 [==============================] - 0s 1ms/step - loss: 0.5331 - accuracy: 0.7247 - lr: 0.0398\n",
            "Epoch 54/100\n",
            "13/13 [==============================] - 0s 1ms/step - loss: 0.5012 - accuracy: 0.7323 - lr: 0.0447\n",
            "Epoch 55/100\n",
            "13/13 [==============================] - 0s 2ms/step - loss: 0.5022 - accuracy: 0.7652 - lr: 0.0501\n",
            "Epoch 56/100\n",
            "13/13 [==============================] - 0s 1ms/step - loss: 0.4927 - accuracy: 0.7273 - lr: 0.0562\n",
            "Epoch 57/100\n",
            "13/13 [==============================] - 0s 2ms/step - loss: 0.4869 - accuracy: 0.7500 - lr: 0.0631\n",
            "Epoch 58/100\n",
            "13/13 [==============================] - 0s 2ms/step - loss: 0.4727 - accuracy: 0.7551 - lr: 0.0708\n",
            "Epoch 59/100\n",
            "13/13 [==============================] - 0s 2ms/step - loss: 0.4837 - accuracy: 0.7500 - lr: 0.0794\n",
            "Epoch 60/100\n",
            "13/13 [==============================] - 0s 2ms/step - loss: 0.4955 - accuracy: 0.7449 - lr: 0.0891\n",
            "Epoch 61/100\n",
            "13/13 [==============================] - 0s 2ms/step - loss: 0.4757 - accuracy: 0.7601 - lr: 0.1000\n",
            "Epoch 62/100\n",
            "13/13 [==============================] - 0s 2ms/step - loss: 0.5410 - accuracy: 0.6439 - lr: 0.1122\n",
            "Epoch 63/100\n",
            "13/13 [==============================] - 0s 1ms/step - loss: 0.5260 - accuracy: 0.7045 - lr: 0.1259\n",
            "Epoch 64/100\n",
            "13/13 [==============================] - 0s 2ms/step - loss: 0.5459 - accuracy: 0.6944 - lr: 0.1413\n",
            "Epoch 65/100\n",
            "13/13 [==============================] - 0s 2ms/step - loss: 0.5550 - accuracy: 0.6970 - lr: 0.1585\n",
            "Epoch 66/100\n",
            "13/13 [==============================] - 0s 2ms/step - loss: 0.5053 - accuracy: 0.7197 - lr: 0.1778\n",
            "Epoch 67/100\n",
            "13/13 [==============================] - 0s 2ms/step - loss: 0.5235 - accuracy: 0.7475 - lr: 0.1995\n",
            "Epoch 68/100\n",
            "13/13 [==============================] - 0s 1ms/step - loss: 0.5542 - accuracy: 0.7045 - lr: 0.2239\n",
            "Epoch 69/100\n",
            "13/13 [==============================] - 0s 2ms/step - loss: 0.5149 - accuracy: 0.7475 - lr: 0.2512\n",
            "Epoch 70/100\n",
            "13/13 [==============================] - 0s 2ms/step - loss: 0.5713 - accuracy: 0.6818 - lr: 0.2818\n",
            "Epoch 71/100\n",
            "13/13 [==============================] - 0s 2ms/step - loss: 0.6320 - accuracy: 0.6162 - lr: 0.3162\n",
            "Epoch 72/100\n",
            "13/13 [==============================] - 0s 2ms/step - loss: 0.6633 - accuracy: 0.5707 - lr: 0.3548\n",
            "Epoch 73/100\n",
            "13/13 [==============================] - 0s 2ms/step - loss: 0.6811 - accuracy: 0.5783 - lr: 0.3981\n",
            "Epoch 74/100\n",
            "13/13 [==============================] - 0s 2ms/step - loss: 0.6355 - accuracy: 0.6843 - lr: 0.4467\n",
            "Epoch 75/100\n",
            "13/13 [==============================] - 0s 2ms/step - loss: 0.6686 - accuracy: 0.6111 - lr: 0.5012\n",
            "Epoch 76/100\n",
            "13/13 [==============================] - 0s 2ms/step - loss: 0.6934 - accuracy: 0.5328 - lr: 0.5623\n",
            "Epoch 77/100\n",
            "13/13 [==============================] - 0s 2ms/step - loss: 0.6914 - accuracy: 0.5480 - lr: 0.6310\n",
            "Epoch 78/100\n",
            "13/13 [==============================] - 0s 2ms/step - loss: 0.6897 - accuracy: 0.5480 - lr: 0.7079\n",
            "Epoch 79/100\n",
            "13/13 [==============================] - 0s 2ms/step - loss: 0.7116 - accuracy: 0.5025 - lr: 0.7943\n",
            "Epoch 80/100\n",
            "13/13 [==============================] - 0s 2ms/step - loss: 0.7183 - accuracy: 0.4874 - lr: 0.8913\n",
            "Epoch 81/100\n",
            "13/13 [==============================] - 0s 2ms/step - loss: 0.7010 - accuracy: 0.5126 - lr: 1.0000\n",
            "Epoch 82/100\n",
            "13/13 [==============================] - 0s 2ms/step - loss: 0.6973 - accuracy: 0.5126 - lr: 1.1220\n",
            "Epoch 83/100\n",
            "13/13 [==============================] - 0s 2ms/step - loss: 0.6972 - accuracy: 0.5530 - lr: 1.2589\n",
            "Epoch 84/100\n",
            "13/13 [==============================] - 0s 2ms/step - loss: 0.7187 - accuracy: 0.4571 - lr: 1.4125\n",
            "Epoch 85/100\n",
            "13/13 [==============================] - 0s 1ms/step - loss: 0.7045 - accuracy: 0.5025 - lr: 1.5849\n",
            "Epoch 86/100\n",
            "13/13 [==============================] - 0s 2ms/step - loss: 0.7006 - accuracy: 0.4823 - lr: 1.7783\n",
            "Epoch 87/100\n",
            "13/13 [==============================] - 0s 1ms/step - loss: 0.7379 - accuracy: 0.5126 - lr: 1.9953\n",
            "Epoch 88/100\n",
            "13/13 [==============================] - 0s 2ms/step - loss: 0.7739 - accuracy: 0.5126 - lr: 2.2387\n",
            "Epoch 89/100\n",
            "13/13 [==============================] - 0s 2ms/step - loss: 0.7185 - accuracy: 0.4823 - lr: 2.5119\n",
            "Epoch 90/100\n",
            "13/13 [==============================] - 0s 2ms/step - loss: 0.7038 - accuracy: 0.4773 - lr: 2.8184\n",
            "Epoch 91/100\n",
            "13/13 [==============================] - 0s 2ms/step - loss: 0.7504 - accuracy: 0.5278 - lr: 3.1623\n",
            "Epoch 92/100\n",
            "13/13 [==============================] - 0s 2ms/step - loss: 0.7471 - accuracy: 0.4823 - lr: 3.5481\n",
            "Epoch 93/100\n",
            "13/13 [==============================] - 0s 1ms/step - loss: 0.8260 - accuracy: 0.5278 - lr: 3.9811\n",
            "Epoch 94/100\n",
            "13/13 [==============================] - 0s 2ms/step - loss: 0.9228 - accuracy: 0.4722 - lr: 4.4668\n",
            "Epoch 95/100\n",
            "13/13 [==============================] - 0s 2ms/step - loss: 0.8866 - accuracy: 0.5025 - lr: 5.0119\n",
            "Epoch 96/100\n",
            "13/13 [==============================] - 0s 2ms/step - loss: 1.0691 - accuracy: 0.5177 - lr: 5.6234\n",
            "Epoch 97/100\n",
            "13/13 [==============================] - 0s 2ms/step - loss: 1.3513 - accuracy: 0.4975 - lr: 6.3096\n",
            "Epoch 98/100\n",
            "13/13 [==============================] - 0s 2ms/step - loss: 0.8312 - accuracy: 0.4571 - lr: 7.0795\n",
            "Epoch 99/100\n",
            "13/13 [==============================] - 0s 3ms/step - loss: 0.9733 - accuracy: 0.5126 - lr: 7.9433\n",
            "Epoch 100/100\n",
            "13/13 [==============================] - 0s 2ms/step - loss: 0.8181 - accuracy: 0.5025 - lr: 8.9125\n"
          ]
        }
      ]
    },
    {
      "cell_type": "markdown",
      "source": [
        "### Try to find the best learning rate"
      ],
      "metadata": {
        "id": "VUh2-uMPm6SQ"
      }
    },
    {
      "cell_type": "code",
      "source": [
        "# plot the learning rate vs the loss to find where the loss decrease fastest (penurunan loss tercepat ada di learning rate yang mana?)\n",
        "lrs = 1e-4 * (10** (tf.range(100)/20))\n",
        "plt.figure(figsize = (10, 7))\n",
        "plt.semilogx(lrs, history_1.history[\"loss\"])\n",
        "plt.xlabel(\"learning rate\")\n",
        "plt.ylabel(\"Loss\")\n",
        "plt.title(\"Learning rate vs Loss\")"
      ],
      "metadata": {
        "colab": {
          "base_uri": "https://localhost:8080/",
          "height": 479
        },
        "id": "3CQHZSHnm7H1",
        "outputId": "2b254698-67d0-4f11-c54b-30297b62ca9a"
      },
      "execution_count": 76,
      "outputs": [
        {
          "output_type": "execute_result",
          "data": {
            "text/plain": [
              "Text(0.5, 1.0, 'Learning rate vs Loss')"
            ]
          },
          "metadata": {},
          "execution_count": 76
        },
        {
          "output_type": "display_data",
          "data": {
            "text/plain": [
              "<Figure size 720x504 with 1 Axes>"
            ],
            "image/png": "[encoded data removed]"
          },
          "metadata": {
            "needs_background": "light"
          }
        }
      ]
    },
    {
      "cell_type": "code",
      "source": [
        "# try a higher ideal learning rate with the same model as before\n",
        "\n",
        "# create the model\n",
        "model_2 = tf.keras.Sequential([\n",
        "    tf.keras.layers.Dense(15, activation = \"relu\"),\n",
        "    tf.keras.layers.Dense(5, activation = \"relu\"),\n",
        "    tf.keras.layers.Dense(1, activation = \"sigmoid\")\n",
        "])\n",
        "\n",
        "# compile the model\n",
        "model_2.compile(loss = \"binary_crossentropy\",\n",
        "                optimizer = tf.keras.optimizers.Adam(learning_rate = 0.05),\n",
        "                metrics = [\"accuracy\"])\n",
        "\n",
        "# fit the model\n",
        "history_2 = model_2.fit(X_train_normal, y_train, epochs = 100)"
      ],
      "metadata": {
        "colab": {
          "base_uri": "https://localhost:8080/"
        },
        "id": "2UXLsRzpnSKY",
        "outputId": "9cac4bb5-2774-4aab-c404-8f0d6e2e4cbf"
      },
      "execution_count": 77,
      "outputs": [
        {
          "output_type": "stream",
          "name": "stdout",
          "text": [
            "Epoch 1/100\n",
            "13/13 [==============================] - 1s 2ms/step - loss: 0.6160 - accuracy: 0.6465\n",
            "Epoch 2/100\n",
            "13/13 [==============================] - 0s 1ms/step - loss: 0.5756 - accuracy: 0.6869\n",
            "Epoch 3/100\n",
            "13/13 [==============================] - 0s 2ms/step - loss: 0.5522 - accuracy: 0.7146\n",
            "Epoch 4/100\n",
            "13/13 [==============================] - 0s 2ms/step - loss: 0.5739 - accuracy: 0.6919\n",
            "Epoch 5/100\n",
            "13/13 [==============================] - 0s 2ms/step - loss: 0.5266 - accuracy: 0.7247\n",
            "Epoch 6/100\n",
            "13/13 [==============================] - 0s 2ms/step - loss: 0.5256 - accuracy: 0.7273\n",
            "Epoch 7/100\n",
            "13/13 [==============================] - 0s 2ms/step - loss: 0.5108 - accuracy: 0.7323\n",
            "Epoch 8/100\n",
            "13/13 [==============================] - 0s 2ms/step - loss: 0.5209 - accuracy: 0.7247\n",
            "Epoch 9/100\n",
            "13/13 [==============================] - 0s 2ms/step - loss: 0.4890 - accuracy: 0.7601\n",
            "Epoch 10/100\n",
            "13/13 [==============================] - 0s 2ms/step - loss: 0.5175 - accuracy: 0.7273\n",
            "Epoch 11/100\n",
            "13/13 [==============================] - 0s 2ms/step - loss: 0.5047 - accuracy: 0.7323\n",
            "Epoch 12/100\n",
            "13/13 [==============================] - 0s 2ms/step - loss: 0.4646 - accuracy: 0.7525\n",
            "Epoch 13/100\n",
            "13/13 [==============================] - 0s 2ms/step - loss: 0.4819 - accuracy: 0.7626\n",
            "Epoch 14/100\n",
            "13/13 [==============================] - 0s 2ms/step - loss: 0.5059 - accuracy: 0.7525\n",
            "Epoch 15/100\n",
            "13/13 [==============================] - 0s 2ms/step - loss: 0.4865 - accuracy: 0.7475\n",
            "Epoch 16/100\n",
            "13/13 [==============================] - 0s 1ms/step - loss: 0.4914 - accuracy: 0.7551\n",
            "Epoch 17/100\n",
            "13/13 [==============================] - 0s 1ms/step - loss: 0.4421 - accuracy: 0.7652\n",
            "Epoch 18/100\n",
            "13/13 [==============================] - 0s 1ms/step - loss: 0.4253 - accuracy: 0.7803\n",
            "Epoch 19/100\n",
            "13/13 [==============================] - 0s 1ms/step - loss: 0.4186 - accuracy: 0.7854\n",
            "Epoch 20/100\n",
            "13/13 [==============================] - 0s 2ms/step - loss: 0.4237 - accuracy: 0.7879\n",
            "Epoch 21/100\n",
            "13/13 [==============================] - 0s 1ms/step - loss: 0.4352 - accuracy: 0.7727\n",
            "Epoch 22/100\n",
            "13/13 [==============================] - 0s 2ms/step - loss: 0.4348 - accuracy: 0.7828\n",
            "Epoch 23/100\n",
            "13/13 [==============================] - 0s 2ms/step - loss: 0.4263 - accuracy: 0.7702\n",
            "Epoch 24/100\n",
            "13/13 [==============================] - 0s 2ms/step - loss: 0.4320 - accuracy: 0.7449\n",
            "Epoch 25/100\n",
            "13/13 [==============================] - 0s 1ms/step - loss: 0.4305 - accuracy: 0.7828\n",
            "Epoch 26/100\n",
            "13/13 [==============================] - 0s 2ms/step - loss: 0.5018 - accuracy: 0.7576\n",
            "Epoch 27/100\n",
            "13/13 [==============================] - 0s 2ms/step - loss: 0.4259 - accuracy: 0.7828\n",
            "Epoch 28/100\n",
            "13/13 [==============================] - 0s 2ms/step - loss: 0.4203 - accuracy: 0.7475\n",
            "Epoch 29/100\n",
            "13/13 [==============================] - 0s 2ms/step - loss: 0.3898 - accuracy: 0.7955\n",
            "Epoch 30/100\n",
            "13/13 [==============================] - 0s 2ms/step - loss: 0.3872 - accuracy: 0.7904\n",
            "Epoch 31/100\n",
            "13/13 [==============================] - 0s 2ms/step - loss: 0.3776 - accuracy: 0.8106\n",
            "Epoch 32/100\n",
            "13/13 [==============================] - 0s 1ms/step - loss: 0.3741 - accuracy: 0.7904\n",
            "Epoch 33/100\n",
            "13/13 [==============================] - 0s 2ms/step - loss: 0.3645 - accuracy: 0.7904\n",
            "Epoch 34/100\n",
            "13/13 [==============================] - 0s 2ms/step - loss: 0.3935 - accuracy: 0.7803\n",
            "Epoch 35/100\n",
            "13/13 [==============================] - 0s 3ms/step - loss: 0.3788 - accuracy: 0.7955\n",
            "Epoch 36/100\n",
            "13/13 [==============================] - 0s 2ms/step - loss: 0.3708 - accuracy: 0.7879\n",
            "Epoch 37/100\n",
            "13/13 [==============================] - 0s 2ms/step - loss: 0.3599 - accuracy: 0.7803\n",
            "Epoch 38/100\n",
            "13/13 [==============================] - 0s 2ms/step - loss: 0.3526 - accuracy: 0.7980\n",
            "Epoch 39/100\n",
            "13/13 [==============================] - 0s 2ms/step - loss: 0.3641 - accuracy: 0.8081\n",
            "Epoch 40/100\n",
            "13/13 [==============================] - 0s 2ms/step - loss: 0.3860 - accuracy: 0.7879\n",
            "Epoch 41/100\n",
            "13/13 [==============================] - 0s 2ms/step - loss: 0.3690 - accuracy: 0.7778\n",
            "Epoch 42/100\n",
            "13/13 [==============================] - 0s 2ms/step - loss: 0.3738 - accuracy: 0.7904\n",
            "Epoch 43/100\n",
            "13/13 [==============================] - 0s 2ms/step - loss: 0.3513 - accuracy: 0.8030\n",
            "Epoch 44/100\n",
            "13/13 [==============================] - 0s 2ms/step - loss: 0.3590 - accuracy: 0.7980\n",
            "Epoch 45/100\n",
            "13/13 [==============================] - 0s 2ms/step - loss: 0.3816 - accuracy: 0.7803\n",
            "Epoch 46/100\n",
            "13/13 [==============================] - 0s 2ms/step - loss: 0.3833 - accuracy: 0.7929\n",
            "Epoch 47/100\n",
            "13/13 [==============================] - 0s 3ms/step - loss: 0.3627 - accuracy: 0.7955\n",
            "Epoch 48/100\n",
            "13/13 [==============================] - 0s 1ms/step - loss: 0.3474 - accuracy: 0.8081\n",
            "Epoch 49/100\n",
            "13/13 [==============================] - 0s 2ms/step - loss: 0.3449 - accuracy: 0.7955\n",
            "Epoch 50/100\n",
            "13/13 [==============================] - 0s 2ms/step - loss: 0.3501 - accuracy: 0.8106\n",
            "Epoch 51/100\n",
            "13/13 [==============================] - 0s 2ms/step - loss: 0.3613 - accuracy: 0.7980\n",
            "Epoch 52/100\n",
            "13/13 [==============================] - 0s 1ms/step - loss: 0.3296 - accuracy: 0.7955\n",
            "Epoch 53/100\n",
            "13/13 [==============================] - 0s 2ms/step - loss: 0.3587 - accuracy: 0.8030\n",
            "Epoch 54/100\n",
            "13/13 [==============================] - 0s 2ms/step - loss: 0.3875 - accuracy: 0.7778\n",
            "Epoch 55/100\n",
            "13/13 [==============================] - 0s 2ms/step - loss: 0.3735 - accuracy: 0.7879\n",
            "Epoch 56/100\n",
            "13/13 [==============================] - 0s 2ms/step - loss: 0.3626 - accuracy: 0.7904\n",
            "Epoch 57/100\n",
            "13/13 [==============================] - 0s 2ms/step - loss: 0.3713 - accuracy: 0.7929\n",
            "Epoch 58/100\n",
            "13/13 [==============================] - 0s 2ms/step - loss: 0.3939 - accuracy: 0.7753\n",
            "Epoch 59/100\n",
            "13/13 [==============================] - 0s 2ms/step - loss: 0.3858 - accuracy: 0.7753\n",
            "Epoch 60/100\n",
            "13/13 [==============================] - 0s 2ms/step - loss: 0.3470 - accuracy: 0.7980\n",
            "Epoch 61/100\n",
            "13/13 [==============================] - 0s 2ms/step - loss: 0.3580 - accuracy: 0.7955\n",
            "Epoch 62/100\n",
            "13/13 [==============================] - 0s 2ms/step - loss: 0.3856 - accuracy: 0.7803\n",
            "Epoch 63/100\n",
            "13/13 [==============================] - 0s 2ms/step - loss: 0.3584 - accuracy: 0.8056\n",
            "Epoch 64/100\n",
            "13/13 [==============================] - 0s 2ms/step - loss: 0.3566 - accuracy: 0.7828\n",
            "Epoch 65/100\n",
            "13/13 [==============================] - 0s 2ms/step - loss: 0.3377 - accuracy: 0.8030\n",
            "Epoch 66/100\n",
            "13/13 [==============================] - 0s 2ms/step - loss: 0.3494 - accuracy: 0.7980\n",
            "Epoch 67/100\n",
            "13/13 [==============================] - 0s 1ms/step - loss: 0.3662 - accuracy: 0.8005\n",
            "Epoch 68/100\n",
            "13/13 [==============================] - 0s 1ms/step - loss: 0.3547 - accuracy: 0.7929\n",
            "Epoch 69/100\n",
            "13/13 [==============================] - 0s 2ms/step - loss: 0.3448 - accuracy: 0.8030\n",
            "Epoch 70/100\n",
            "13/13 [==============================] - 0s 2ms/step - loss: 0.3408 - accuracy: 0.7955\n",
            "Epoch 71/100\n",
            "13/13 [==============================] - 0s 2ms/step - loss: 0.3200 - accuracy: 0.8131\n",
            "Epoch 72/100\n",
            "13/13 [==============================] - 0s 2ms/step - loss: 0.3415 - accuracy: 0.8106\n",
            "Epoch 73/100\n",
            "13/13 [==============================] - 0s 2ms/step - loss: 0.3512 - accuracy: 0.8056\n",
            "Epoch 74/100\n",
            "13/13 [==============================] - 0s 2ms/step - loss: 0.3453 - accuracy: 0.8005\n",
            "Epoch 75/100\n",
            "13/13 [==============================] - 0s 2ms/step - loss: 0.3727 - accuracy: 0.7879\n",
            "Epoch 76/100\n",
            "13/13 [==============================] - 0s 2ms/step - loss: 0.3881 - accuracy: 0.7753\n",
            "Epoch 77/100\n",
            "13/13 [==============================] - 0s 2ms/step - loss: 0.3676 - accuracy: 0.8030\n",
            "Epoch 78/100\n",
            "13/13 [==============================] - 0s 2ms/step - loss: 0.3483 - accuracy: 0.8157\n",
            "Epoch 79/100\n",
            "13/13 [==============================] - 0s 2ms/step - loss: 0.3488 - accuracy: 0.8157\n",
            "Epoch 80/100\n",
            "13/13 [==============================] - 0s 2ms/step - loss: 0.3466 - accuracy: 0.8081\n",
            "Epoch 81/100\n",
            "13/13 [==============================] - 0s 2ms/step - loss: 0.3606 - accuracy: 0.8056\n",
            "Epoch 82/100\n",
            "13/13 [==============================] - 0s 2ms/step - loss: 0.3493 - accuracy: 0.7955\n",
            "Epoch 83/100\n",
            "13/13 [==============================] - 0s 1ms/step - loss: 0.3186 - accuracy: 0.8106\n",
            "Epoch 84/100\n",
            "13/13 [==============================] - 0s 2ms/step - loss: 0.3062 - accuracy: 0.8182\n",
            "Epoch 85/100\n",
            "13/13 [==============================] - 0s 2ms/step - loss: 0.3205 - accuracy: 0.8207\n",
            "Epoch 86/100\n",
            "13/13 [==============================] - 0s 2ms/step - loss: 0.3300 - accuracy: 0.8157\n",
            "Epoch 87/100\n",
            "13/13 [==============================] - 0s 2ms/step - loss: 0.3177 - accuracy: 0.8106\n",
            "Epoch 88/100\n",
            "13/13 [==============================] - 0s 2ms/step - loss: 0.3201 - accuracy: 0.8106\n",
            "Epoch 89/100\n",
            "13/13 [==============================] - 0s 2ms/step - loss: 0.3207 - accuracy: 0.8182\n",
            "Epoch 90/100\n",
            "13/13 [==============================] - 0s 2ms/step - loss: 0.3395 - accuracy: 0.7854\n",
            "Epoch 91/100\n",
            "13/13 [==============================] - 0s 2ms/step - loss: 0.3140 - accuracy: 0.8131\n",
            "Epoch 92/100\n",
            "13/13 [==============================] - 0s 2ms/step - loss: 0.3825 - accuracy: 0.8005\n",
            "Epoch 93/100\n",
            "13/13 [==============================] - 0s 2ms/step - loss: 0.3432 - accuracy: 0.8056\n",
            "Epoch 94/100\n",
            "13/13 [==============================] - 0s 2ms/step - loss: 0.3400 - accuracy: 0.8081\n",
            "Epoch 95/100\n",
            "13/13 [==============================] - 0s 2ms/step - loss: 0.3412 - accuracy: 0.8131\n",
            "Epoch 96/100\n",
            "13/13 [==============================] - 0s 2ms/step - loss: 0.3594 - accuracy: 0.7904\n",
            "Epoch 97/100\n",
            "13/13 [==============================] - 0s 2ms/step - loss: 0.3799 - accuracy: 0.7879\n",
            "Epoch 98/100\n",
            "13/13 [==============================] - 0s 2ms/step - loss: 0.3396 - accuracy: 0.7929\n",
            "Epoch 99/100\n",
            "13/13 [==============================] - 0s 2ms/step - loss: 0.3413 - accuracy: 0.7904\n",
            "Epoch 100/100\n",
            "13/13 [==============================] - 0s 2ms/step - loss: 0.3148 - accuracy: 0.8283\n"
          ]
        }
      ]
    },
    {
      "cell_type": "code",
      "source": [
        "model_1.evaluate(X_test_normal, y_test)"
      ],
      "metadata": {
        "colab": {
          "base_uri": "https://localhost:8080/"
        },
        "id": "Cyh1Uh8JnnTd",
        "outputId": "a670998b-d567-493f-f265-1c8124292bef"
      },
      "execution_count": 78,
      "outputs": [
        {
          "output_type": "stream",
          "name": "stdout",
          "text": [
            "3/3 [==============================] - 0s 3ms/step - loss: 0.8436 - accuracy: 0.4286\n"
          ]
        },
        {
          "output_type": "execute_result",
          "data": {
            "text/plain": [
              "[0.8435613512992859, 0.4285714328289032]"
            ]
          },
          "metadata": {},
          "execution_count": 78
        }
      ]
    },
    {
      "cell_type": "code",
      "source": [
        "model_2.evaluate(X_test_normal, y_test)"
      ],
      "metadata": {
        "colab": {
          "base_uri": "https://localhost:8080/"
        },
        "id": "xYNflHuGniRv",
        "outputId": "c28688b8-96f5-45f7-8072-cf8c58752e81"
      },
      "execution_count": 79,
      "outputs": [
        {
          "output_type": "stream",
          "name": "stdout",
          "text": [
            "3/3 [==============================] - 0s 3ms/step - loss: 1.4171 - accuracy: 0.6714\n"
          ]
        },
        {
          "output_type": "execute_result",
          "data": {
            "text/plain": [
              "[1.4171350002288818, 0.6714285612106323]"
            ]
          },
          "metadata": {},
          "execution_count": 79
        }
      ]
    },
    {
      "cell_type": "markdown",
      "source": [
        "## Confusion Matrix"
      ],
      "metadata": {
        "id": "DegRXkuzntoX"
      }
    },
    {
      "cell_type": "code",
      "source": [
        "# make predictions\n",
        "y_preds = model_2.predict(X_test_normal)\n",
        "y_preds"
      ],
      "metadata": {
        "colab": {
          "base_uri": "https://localhost:8080/"
        },
        "id": "DSpjts3tnuYv",
        "outputId": "21f2a985-dcf9-4d22-d76a-bee66b48ab9f"
      },
      "execution_count": 80,
      "outputs": [
        {
          "output_type": "stream",
          "name": "stdout",
          "text": [
            "3/3 [==============================] - 0s 4ms/step\n"
          ]
        },
        {
          "output_type": "execute_result",
          "data": {
            "text/plain": [
              "array([[9.99868691e-01],\n",
              "       [5.42717040e-01],\n",
              "       [5.03852606e-01],\n",
              "       [8.61836195e-01],\n",
              "       [5.42717040e-01],\n",
              "       [9.90649939e-01],\n",
              "       [9.99998689e-01],\n",
              "       [5.42717040e-01],\n",
              "       [3.39842238e-03],\n",
              "       [5.98307699e-04],\n",
              "       [9.99948382e-01],\n",
              "       [5.42717040e-01],\n",
              "       [4.49043931e-03],\n",
              "       [1.72939315e-01],\n",
              "       [4.77458455e-11],\n",
              "       [1.16992407e-01],\n",
              "       [5.42717040e-01],\n",
              "       [5.42717040e-01],\n",
              "       [5.42717040e-01],\n",
              "       [9.83628750e-01],\n",
              "       [9.99496877e-01],\n",
              "       [4.40352589e-01],\n",
              "       [2.34140828e-02],\n",
              "       [3.20660323e-02],\n",
              "       [4.40352589e-01],\n",
              "       [5.80574162e-02],\n",
              "       [3.46751362e-01],\n",
              "       [5.42717040e-01],\n",
              "       [5.42717040e-01],\n",
              "       [5.42717040e-01],\n",
              "       [1.52571863e-06],\n",
              "       [5.42717040e-01],\n",
              "       [5.42717040e-01],\n",
              "       [3.86030413e-03],\n",
              "       [6.01111613e-02],\n",
              "       [9.99896467e-01],\n",
              "       [7.52987087e-01],\n",
              "       [2.76543344e-10],\n",
              "       [9.17888045e-01],\n",
              "       [1.02851994e-03],\n",
              "       [9.99957919e-01],\n",
              "       [3.65431799e-04],\n",
              "       [5.42717040e-01],\n",
              "       [7.64325559e-01],\n",
              "       [9.04385924e-01],\n",
              "       [5.42717040e-01],\n",
              "       [8.64022315e-01],\n",
              "       [9.63892162e-01],\n",
              "       [1.93999247e-10],\n",
              "       [1.82199404e-02],\n",
              "       [9.99999583e-01],\n",
              "       [6.96792256e-07],\n",
              "       [1.24045357e-11],\n",
              "       [9.99995649e-01],\n",
              "       [2.21649359e-04],\n",
              "       [9.05319691e-01],\n",
              "       [6.56782746e-01],\n",
              "       [5.42717040e-01],\n",
              "       [5.42717040e-01],\n",
              "       [9.26415741e-01],\n",
              "       [1.49504046e-06],\n",
              "       [4.27250238e-03],\n",
              "       [3.86408310e-08],\n",
              "       [5.42717040e-01],\n",
              "       [2.38203187e-03],\n",
              "       [5.42717040e-01],\n",
              "       [9.99889910e-01],\n",
              "       [5.42717040e-01],\n",
              "       [1.11452695e-02],\n",
              "       [5.04713058e-02]], dtype=float32)"
            ]
          },
          "metadata": {},
          "execution_count": 80
        }
      ]
    },
    {
      "cell_type": "code",
      "source": [
        "# convert to binary format\n",
        "y_preds = tf.round(y_preds)\n",
        "y_preds"
      ],
      "metadata": {
        "colab": {
          "base_uri": "https://localhost:8080/"
        },
        "id": "pYXub5n-n20X",
        "outputId": "90155a34-1b62-4ef5-fa43-551ecb9cdb0f"
      },
      "execution_count": 81,
      "outputs": [
        {
          "output_type": "execute_result",
          "data": {
            "text/plain": [
              "<tf.Tensor: shape=(70, 1), dtype=float32, numpy=\n",
              "array([[1.],\n",
              "       [1.],\n",
              "       [1.],\n",
              "       [1.],\n",
              "       [1.],\n",
              "       [1.],\n",
              "       [1.],\n",
              "       [1.],\n",
              "       [0.],\n",
              "       [0.],\n",
              "       [1.],\n",
              "       [1.],\n",
              "       [0.],\n",
              "       [0.],\n",
              "       [0.],\n",
              "       [0.],\n",
              "       [1.],\n",
              "       [1.],\n",
              "       [1.],\n",
              "       [1.],\n",
              "       [1.],\n",
              "       [0.],\n",
              "       [0.],\n",
              "       [0.],\n",
              "       [0.],\n",
              "       [0.],\n",
              "       [0.],\n",
              "       [1.],\n",
              "       [1.],\n",
              "       [1.],\n",
              "       [0.],\n",
              "       [1.],\n",
              "       [1.],\n",
              "       [0.],\n",
              "       [0.],\n",
              "       [1.],\n",
              "       [1.],\n",
              "       [0.],\n",
              "       [1.],\n",
              "       [0.],\n",
              "       [1.],\n",
              "       [0.],\n",
              "       [1.],\n",
              "       [1.],\n",
              "       [1.],\n",
              "       [1.],\n",
              "       [1.],\n",
              "       [1.],\n",
              "       [0.],\n",
              "       [0.],\n",
              "       [1.],\n",
              "       [0.],\n",
              "       [0.],\n",
              "       [1.],\n",
              "       [0.],\n",
              "       [1.],\n",
              "       [1.],\n",
              "       [1.],\n",
              "       [1.],\n",
              "       [1.],\n",
              "       [0.],\n",
              "       [0.],\n",
              "       [0.],\n",
              "       [1.],\n",
              "       [0.],\n",
              "       [1.],\n",
              "       [1.],\n",
              "       [1.],\n",
              "       [0.],\n",
              "       [0.]], dtype=float32)>"
            ]
          },
          "metadata": {},
          "execution_count": 81
        }
      ]
    },
    {
      "cell_type": "code",
      "source": [
        "from sklearn.metrics import confusion_matrix\n",
        "\n",
        "# create confusion matrix\n",
        "confusion_matrix(y_test, y_preds)"
      ],
      "metadata": {
        "colab": {
          "base_uri": "https://localhost:8080/"
        },
        "id": "1soxmTUuoDJ2",
        "outputId": "d1198d6d-7f65-4623-bd0b-4bb4b96a9878"
      },
      "execution_count": 82,
      "outputs": [
        {
          "output_type": "execute_result",
          "data": {
            "text/plain": [
              "array([[23, 17],\n",
              "       [ 6, 24]])"
            ]
          },
          "metadata": {},
          "execution_count": 82
        }
      ]
    },
    {
      "cell_type": "code",
      "source": [
        "# prettify the confusion matrix\n",
        "# Note: The following confusion matrix code is a remix of Scikit-Learn's \n",
        "# plot_confusion_matrix function - https://scikit-learn.org/stable/modules/generated/sklearn.metrics.plot_confusion_matrix.html\n",
        "# and Made with ML's introductory notebook - https://github.com/GokuMohandas/MadeWithML/blob/main/notebooks/08_Neural_Networks.ipynb \n",
        "\n",
        "import itertools\n",
        "\n",
        "figsize = (10, 10)\n",
        "\n",
        "# create the confusion matrix\n",
        "cm = confusion_matrix(y_test, y_preds)\n",
        "cm_norm = cm.astype(\"float\") / cm.sum(axis = 1)[:, np.newaxis] # normalize confusion matrix\n",
        "n_classes = cm.shape[0]\n",
        "\n",
        "# prettify it\n",
        "fig, ax = plt.subplots(figsize = figsize)\n",
        "# create a matrix plot\n",
        "cax = ax.matshow(cm, cmap = plt.cm.Blues)\n",
        "fig.colorbar(cax)\n",
        "\n",
        "# create classes \n",
        "classes = False\n",
        "labels = np.arange(cm.shape[0])\n",
        "\n",
        "# label the axes\n",
        "ax.set(title = \"Confusion Matrix\", \n",
        "       xlabel = \"Predicted Label\", \n",
        "       ylabel = \"True Label\", \n",
        "       xticks = np.arange(n_classes), \n",
        "       yticks = np.arange(n_classes),\n",
        "       xticklabels = labels,\n",
        "       yticklabels = labels)\n",
        "\n",
        "# set x-axis labels to bottom\n",
        "ax.xaxis.set_label_position(\"bottom\")\n",
        "ax.xaxis.tick_bottom()\n",
        "\n",
        "# adjust the label size\n",
        "ax.yaxis.label.set_size(20)\n",
        "ax.xaxis.label.set_size(20)\n",
        "ax.title.set_size(20)\n",
        "\n",
        "# set threshold for different colors\n",
        "threshold = (cm.max() + cm.min()) / 2\n",
        "\n",
        "# plot the text on each cell\n",
        "for i, j in itertools.product(range(cm.shape[0]), range(cm.shape[1])):\n",
        "  plt.text(j, i, f\"{cm[i, j]} ({cm_norm[i, j]*100:.1f}%)\",\n",
        "           horizontalalignment = \"center\",\n",
        "           color = \"white\" if cm[i, j] > threshold else \"black\",\n",
        "           size = 15)"
      ],
      "metadata": {
        "colab": {
          "base_uri": "https://localhost:8080/",
          "height": 584
        },
        "id": "28lQ469JqoE2",
        "outputId": "e4bfdb63-b99b-469e-a735-35ec794ab739"
      },
      "execution_count": 83,
      "outputs": [
        {
          "output_type": "display_data",
          "data": {
            "text/plain": [
              "<Figure size 720x720 with 2 Axes>"
            ],
            "image/png": "[encoded data removed]"
          },
          "metadata": {
            "needs_background": "light"
          }
        }
      ]
    }
  ]
}